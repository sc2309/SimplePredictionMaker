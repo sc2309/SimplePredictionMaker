{
 "cells": [
  {
   "cell_type": "code",
   "execution_count": 1,
   "id": "7ad0d0ed",
   "metadata": {},
   "outputs": [],
   "source": [
    "import numpy as np"
   ]
  },
  {
   "cell_type": "code",
   "execution_count": 4,
   "id": "c5eb7327",
   "metadata": {},
   "outputs": [],
   "source": [
    "def probability(n1, n2):\n",
    "    total = n1 + n2\n",
    "    chance1 = (n1/total) * 100\n",
    "    chance2 = (n2/total) * 100\n",
    "    return chance1, chance2"
   ]
  },
  {
   "cell_type": "code",
   "execution_count": 17,
   "id": "611bb879",
   "metadata": {},
   "outputs": [
    {
     "name": "stdout",
     "output_type": "stream",
     "text": [
      "Enter the no. of battles you won: 100000000000000000000000000000000000000000000000000000000000000000000000000000000000000000000000000000000\n",
      "Enter the no. of battles your opponent won: -10000000000\n"
     ]
    }
   ],
   "source": [
    "val1 = int(input('Enter the no. of battles you won: '))\n",
    "val2 = int(input('Enter the no. of battles your opponent won: '))"
   ]
  },
  {
   "cell_type": "code",
   "execution_count": 18,
   "id": "3573a655",
   "metadata": {},
   "outputs": [],
   "source": [
    "c1, c2 = probability(val1, val2)"
   ]
  },
  {
   "cell_type": "code",
   "execution_count": 19,
   "id": "b8c55560",
   "metadata": {},
   "outputs": [
    {
     "name": "stdout",
     "output_type": "stream",
     "text": [
      "Congrats you will win chances: 100.0\n"
     ]
    }
   ],
   "source": [
    "if c1 > c2:\n",
    "    print(f'Congrats you will win chances: {c1}')\n",
    "elif c2 > c1:\n",
    "    print(f'Sadly your opponent can win chances: {c2}')\n",
    "else:\n",
    "    print('Wish you luck because its 50 - 50 chances')"
   ]
  },
  {
   "cell_type": "code",
   "execution_count": null,
   "id": "1971021a",
   "metadata": {},
   "outputs": [],
   "source": []
  }
 ],
 "metadata": {
  "kernelspec": {
   "display_name": "Python 3 (ipykernel)",
   "language": "python",
   "name": "python3"
  },
  "language_info": {
   "codemirror_mode": {
    "name": "ipython",
    "version": 3
   },
   "file_extension": ".py",
   "mimetype": "text/x-python",
   "name": "python",
   "nbconvert_exporter": "python",
   "pygments_lexer": "ipython3",
   "version": "3.11.5"
  }
 },
 "nbformat": 4,
 "nbformat_minor": 5
}
